{
  "nbformat": 4,
  "nbformat_minor": 0,
  "metadata": {
    "colab": {
      "name": "Gram-Schmidt.ipynb",
      "provenance": [],
      "collapsed_sections": [],
      "authorship_tag": "ABX9TyPzxIPG77Jwp1jBffooLFIU"
    },
    "kernelspec": {
      "name": "python3",
      "display_name": "Python 3"
    }
  },
  "cells": [
    {
      "cell_type": "markdown",
      "metadata": {
        "id": "94z1h3_C0Tom"
      },
      "source": [
        "# Gram-Schmidt Orthogonalization"
      ]
    },
    {
      "cell_type": "code",
      "metadata": {
        "id": "Yrv5nAdFynK8"
      },
      "source": [
        "import numpy as np\n",
        "import numpy.linalg as la"
      ],
      "execution_count": 1,
      "outputs": []
    },
    {
      "cell_type": "markdown",
      "metadata": {
        "id": "IFeTeUQL2NRM"
      },
      "source": [
        "##Input\n"
      ]
    },
    {
      "cell_type": "code",
      "metadata": {
        "id": "Lh0JFWkD1lmK"
      },
      "source": [
        "Input_X =np.array([[1,1,0],[1,3,0],[0,0,0]])\n"
      ],
      "execution_count": 3,
      "outputs": []
    },
    {
      "cell_type": "markdown",
      "metadata": {
        "id": "I7sIIfc22Vz1"
      },
      "source": [
        "## step 1 delete any X_i = 0"
      ]
    },
    {
      "cell_type": "code",
      "metadata": {
        "id": "xkjv9t512fK_"
      },
      "source": [
        "X = np.array()\n",
        "for columns in Input_X:\n",
        "  if column != 0:\n",
        "    X.append column\n"
      ],
      "execution_count": null,
      "outputs": []
    },
    {
      "cell_type": "markdown",
      "metadata": {
        "id": "WDc1ngJ12-nl"
      },
      "source": [
        "## step 2 initialize U1"
      ]
    },
    {
      "cell_type": "code",
      "metadata": {
        "id": "uLe6MJHi3D1B"
      },
      "source": [
        "U = []\n",
        "U1 = X.pop/magnitude(X.pop)\n",
        "U.append(U1)"
      ],
      "execution_count": null,
      "outputs": []
    },
    {
      "cell_type": "markdown",
      "metadata": {
        "id": "JvqkqqEx3Qp3"
      },
      "source": [
        "## step 3 calculate U_j, j = 2,3,...,p"
      ]
    },
    {
      "cell_type": "code",
      "metadata": {
        "id": "f4adqpmq3d7Z"
      },
      "source": [
        "\n",
        "for i in range(len(X)-1):\n",
        "  for j in range(i-1):\n",
        "    proj_xi = U[j]U[j]_T*X[i]\n",
        "  Xi = X[i] - proj_xi\n",
        "  if Xi != 0:\n",
        "    Uj = Xi/magnitude(Xi)\n",
        "  U.append(Uj)\n"
      ],
      "execution_count": null,
      "outputs": []
    }
  ]
}