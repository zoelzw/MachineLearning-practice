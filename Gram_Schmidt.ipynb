{
  "nbformat": 4,
  "nbformat_minor": 0,
  "metadata": {
    "colab": {
      "name": "Gram-Schmidt.ipynb",
      "provenance": [],
      "collapsed_sections": [],
      "authorship_tag": "ABX9TyOEOouTxW90kixvDKDJQolt"
    },
    "kernelspec": {
      "name": "python3",
      "display_name": "Python 3"
    }
  },
  "cells": [
    {
      "cell_type": "markdown",
      "metadata": {
        "id": "94z1h3_C0Tom"
      },
      "source": [
        "# Gram-Schmidt Orthogonalization"
      ]
    },
    {
      "cell_type": "code",
      "metadata": {
        "id": "Yrv5nAdFynK8"
      },
      "source": [
        "import numpy as np\n",
        "import numpy.linalg as la"
      ],
      "execution_count": 25,
      "outputs": []
    },
    {
      "cell_type": "markdown",
      "metadata": {
        "id": "IFeTeUQL2NRM"
      },
      "source": [
        "##Input\n"
      ]
    },
    {
      "cell_type": "code",
      "metadata": {
        "id": "Lh0JFWkD1lmK"
      },
      "source": [
        "Input_X =np.array([[1,1,0],\n",
        "                   [1,3,0],\n",
        "                   [0,0,0]])\n"
      ],
      "execution_count": 26,
      "outputs": []
    },
    {
      "cell_type": "markdown",
      "metadata": {
        "id": "I7sIIfc22Vz1"
      },
      "source": [
        "## step 1 delete any X_i = 0"
      ]
    },
    {
      "cell_type": "code",
      "metadata": {
        "id": "xkjv9t512fK_"
      },
      "source": [
        "idx = np.argwhere(np.all(Input_X[...,:] == 0, axis=0))\n",
        "X = np.delete(Input_X, idx, axis=1)\n"
      ],
      "execution_count": 27,
      "outputs": []
    },
    {
      "cell_type": "markdown",
      "metadata": {
        "id": "WDc1ngJ12-nl"
      },
      "source": [
        "## step 2 initialize U1"
      ]
    },
    {
      "cell_type": "code",
      "metadata": {
        "id": "uLe6MJHi3D1B",
        "outputId": "b2bb8248-1a94-457a-ee61-3b2d5a7fda6b",
        "colab": {
          "base_uri": "https://localhost:8080/",
          "height": 68
        }
      },
      "source": [
        "U = np.empty([3,2])\n",
        "U1 = X[:,0]/la.norm(X[:,0])\n",
        "U[:,0] = U1\n",
        "tol = 1e-16\n",
        "U.real[abs(U.real)<tol] = 0.0\n",
        "# U.imag[abs(U.imag)<tol] = 0.0\n",
        "print(U,U1)"
      ],
      "execution_count": 28,
      "outputs": [
        {
          "output_type": "stream",
          "text": [
            "[[0.70710678 0.        ]\n",
            " [0.70710678 0.        ]\n",
            " [0.         0.        ]] [0.70710678 0.70710678 0.        ]\n"
          ],
          "name": "stdout"
        }
      ]
    },
    {
      "cell_type": "markdown",
      "metadata": {
        "id": "JvqkqqEx3Qp3"
      },
      "source": [
        "## step 3 calculate U_j, j = 2,3,...,p\n",
        "## step 4 delete zero-valued Ui's"
      ]
    },
    {
      "cell_type": "code",
      "metadata": {
        "id": "f4adqpmq3d7Z",
        "outputId": "c731f39b-ce1d-4a99-9630-018722cc009b",
        "colab": {
          "base_uri": "https://localhost:8080/",
          "height": 68
        }
      },
      "source": [
        "\n",
        "for i in range(1,np.shape(X)[1]):\n",
        "  for j in range(i):\n",
        "    proj_xi = np.outer(U[:,j],U[:,j])@X[:,i]\n",
        "  Xi = X[:,i] - proj_xi\n",
        "\n",
        "  if np.all((Xi == 0)):\n",
        "    nidx = i - 1\n",
        "  else:\n",
        "    nidx = i\n",
        "    U_nidx = Xi/la.norm(Xi)\n",
        "  U[:,nidx] = U_nidx\n",
        "print(U)"
      ],
      "execution_count": 54,
      "outputs": [
        {
          "output_type": "stream",
          "text": [
            "[[ 0.70710678 -0.70710678]\n",
            " [ 0.70710678  0.70710678]\n",
            " [ 0.          0.        ]]\n"
          ],
          "name": "stdout"
        }
      ]
    },
    {
      "cell_type": "code",
      "metadata": {
        "id": "HhVcO_u2FjdX"
      },
      "source": [
        ")"
      ],
      "execution_count": null,
      "outputs": []
    }
  ]
}