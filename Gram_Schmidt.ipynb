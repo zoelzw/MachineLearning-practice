{
  "nbformat": 4,
  "nbformat_minor": 0,
  "metadata": {
    "colab": {
      "name": "Gram-Schmidt.ipynb",
      "provenance": [],
      "collapsed_sections": [],
      "authorship_tag": "ABX9TyOaknGW4uyjXT6Rz+YLN8WT"
    },
    "kernelspec": {
      "name": "python3",
      "display_name": "Python 3"
    }
  },
  "cells": [
    {
      "cell_type": "markdown",
      "metadata": {
        "id": "94z1h3_C0Tom"
      },
      "source": [
        "# Gram-Schmidt Orthogonalization"
      ]
    },
    {
      "cell_type": "code",
      "metadata": {
        "id": "Yrv5nAdFynK8"
      },
      "source": [
        "import numpy as np\n",
        "import numpy.linalg as la"
      ],
      "execution_count": 248,
      "outputs": []
    },
    {
      "cell_type": "markdown",
      "metadata": {
        "id": "IFeTeUQL2NRM"
      },
      "source": [
        "##Input\n"
      ]
    },
    {
      "cell_type": "code",
      "metadata": {
        "id": "Lh0JFWkD1lmK"
      },
      "source": [
        "# Input_X =np.array([[1,1,0],\n",
        "#                    [1,3,0],\n",
        "#                    [0,0,0]])\n",
        "Input_X =np.array([[-1,1,2],\n",
        "                   [1,-1,2]])\n"
      ],
      "execution_count": 249,
      "outputs": []
    },
    {
      "cell_type": "markdown",
      "metadata": {
        "id": "I7sIIfc22Vz1"
      },
      "source": [
        "## step 1 delete any X_i = 0"
      ]
    },
    {
      "cell_type": "code",
      "metadata": {
        "id": "xkjv9t512fK_"
      },
      "source": [
        "idx = np.argwhere(np.all(Input_X[...,:] == 0, axis=0))\n",
        "X = np.delete(Input_X, idx, axis=1)\n"
      ],
      "execution_count": 250,
      "outputs": []
    },
    {
      "cell_type": "markdown",
      "metadata": {
        "id": "WDc1ngJ12-nl"
      },
      "source": [
        "## step 2 initialize U1"
      ]
    },
    {
      "cell_type": "code",
      "metadata": {
        "id": "uLe6MJHi3D1B"
      },
      "source": [
        "U = np.empty([2,3])\n",
        "U1 = X[:,0]/la.norm(X[:,0])\n",
        "U[:,0] = U1\n",
        "tol = 1e-16\n",
        "U.real[abs(U.real)<tol] = 0.0\n",
        "\n",
        "# print(U,U1)"
      ],
      "execution_count": 251,
      "outputs": []
    },
    {
      "cell_type": "markdown",
      "metadata": {
        "id": "JvqkqqEx3Qp3"
      },
      "source": [
        "## step 3 calculate U_j, j = 2,3,...,p\n"
      ]
    },
    {
      "cell_type": "code",
      "metadata": {
        "id": "f4adqpmq3d7Z"
      },
      "source": [
        "\n",
        "for i in range(np.shape(X)[1]-2): #1\n",
        "  projs = np.array([[0,0],[0,0]])\n",
        "  for j in range(i+1):#0 1\n",
        "    projs[:,j] = U[:,j]*np.dot(U[:,j],X[:,i+1])\n",
        "    \n",
        "  Xi = X[:,i+1] - projs.sum(axis=1)\n",
        "  Ui = Xi/la.norm(Xi)\n",
        "  U[:,i+1] = Ui\n",
        "# print(U)"
      ],
      "execution_count": 252,
      "outputs": []
    },
    {
      "cell_type": "markdown",
      "metadata": {
        "id": "HuF3KntWSNGb"
      },
      "source": [
        "## step 4 delete zero-valued Ui's"
      ]
    },
    {
      "cell_type": "code",
      "metadata": {
        "id": "HhVcO_u2FjdX",
        "outputId": "d6ca22a8-9788-43f1-cd58-16f65b365b62",
        "colab": {
          "base_uri": "https://localhost:8080/",
          "height": 51
        }
      },
      "source": [
        "idx = np.argwhere(np.all(U[...,:] == 0, axis=0))\n",
        "U = np.delete(U, idx, axis=1)\n",
        "print(U)"
      ],
      "execution_count": 253,
      "outputs": [
        {
          "output_type": "stream",
          "text": [
            "[[-0.70710678  0.70710678]\n",
            " [ 0.70710678 -0.70710678]]\n"
          ],
          "name": "stdout"
        }
      ]
    }
  ]
}