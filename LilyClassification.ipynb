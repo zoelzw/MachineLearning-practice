{
  "nbformat": 4,
  "nbformat_minor": 0,
  "metadata": {
    "colab": {
      "name": "LilyClassification.ipynb",
      "provenance": [],
      "collapsed_sections": [],
      "authorship_tag": "ABX9TyNizOZwKLlx5rthQIcClRoC"
    },
    "kernelspec": {
      "name": "python3",
      "display_name": "Python 3"
    }
  },
  "cells": [
    {
      "cell_type": "code",
      "metadata": {
        "id": "CwrffgigkKQO",
        "outputId": "ecfc105b-20eb-48ee-918c-d67e78e3b7e7",
        "colab": {
          "base_uri": "https://localhost:8080/",
          "height": 482
        }
      },
      "source": [
        "import matplotlib.pyplot as plt \n",
        "import numpy as np\n",
        "import scipy.io as sio\n",
        "\n",
        "labels_to_LS = {'setosa' : -1, 'versicolor' : 0, 'virginica' : 1}\n",
        "\n",
        "\n",
        "d = sio.loadmat('fisheriris.mat')\n",
        "X = d['meas']\n",
        "y = np.array([labels_to_LS[label[0][0]] for label in d['species']])\n",
        "\n",
        "# N = number of random trials\n",
        "# errs is used to store error values\n",
        "# num_train = size of the training set of each type \n",
        "N = 10000\n",
        "errs = np.zeros(N)\n",
        "num_train = 40\n",
        "\n",
        "\n",
        "for i in range(N):\n",
        "  if i % (N // 10) == 0:\n",
        "    print(\"iteration\", i)\n",
        "  # ih is the set of hold-out indices \n",
        "  it = np.zeros(0, dtype=np.intp)\n",
        "  # it is the set of training indices \n",
        "  ih = np.zeros(0, dtype=np.intp)\n",
        "  for label_type in range(3):\n",
        "    # randomly pick training and hold-out sets\n",
        "    r = np.random.permutation(50)\n",
        "    it = np.concatenate((it, 50 * label_type + r[:num_train])) \n",
        "    ih = np.concatenate((ih, 50 * label_type + r[num_train:]))\n",
        "  # train the classifier\n",
        "  Xt = X[it, :]\n",
        "  yt = y[it]\n",
        "  wt = np.linalg.inv(Xt.T@Xt)@Xt.T@yt\n",
        "  # use the classifier on the hold-out set\n",
        "  Xh = X[ih, :]\n",
        "  yh = y[ih]\n",
        "  yhat = Xh@wt\n",
        "  # apply rounding to find labels\n",
        "  for j in range(np.size(yhat)): \n",
        "    if np.abs(yhat[j]) < 0.5:\n",
        "      yhat[j] = 0.0 \n",
        "    else:\n",
        "      yhat[j] = np.sign(yhat[j]) \n",
        "\n",
        "  errs[i] = np.mean(yhat != yh)\n",
        "\n",
        "\n",
        "avg_error = np.mean(errs) \n",
        "print(avg_error)\n",
        "# plot histogram of errors and mean value\n",
        "plt.hist(errs * 30, density=True, bins=np.arange(6)) \n",
        "plt.xlabel('number␣of␣classification␣errors␣(out␣of␣30␣holdouts)') \n",
        "plt.ylabel('frequency␣of␣occurrence␣(10,000␣trials)') \n",
        "plt.title('Distribution␣of␣average␣test␣error.␣Mean␣=␣{:.5f}'.format(avg_error)) \n",
        "plt.show()"
      ],
      "execution_count": 11,
      "outputs": [
        {
          "output_type": "stream",
          "text": [
            "iteration 0\n",
            "iteration 1000\n",
            "iteration 2000\n",
            "iteration 3000\n",
            "iteration 4000\n",
            "iteration 5000\n",
            "iteration 6000\n",
            "iteration 7000\n",
            "iteration 8000\n",
            "iteration 9000\n",
            "0.03216666666666666\n"
          ],
          "name": "stdout"
        },
        {
          "output_type": "display_data",
          "data": {
            "image/png": "[encoded data removed]",
            "text/plain": [
              "<Figure size 432x288 with 1 Axes>"
            ]
          },
          "metadata": {
            "tags": [],
            "needs_background": "light"
          }
        }
      ]
    }
  ]
}