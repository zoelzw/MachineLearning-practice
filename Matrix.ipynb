{
  "nbformat": 4,
  "nbformat_minor": 0,
  "metadata": {
    "kernelspec": {
      "display_name": "Python 3",
      "language": "python",
      "name": "python3"
    },
    "language_info": {
      "codemirror_mode": {
        "name": "ipython",
        "version": 3
      },
      "file_extension": ".py",
      "mimetype": "text/x-python",
      "name": "python",
      "nbconvert_exporter": "python",
      "pygments_lexer": "ipython3",
      "version": "3.7.3"
    },
    "colab": {
      "name": "hw1.ipynb",
      "provenance": [],
      "collapsed_sections": [],
      "include_colab_link": true
    }
  },
  "cells": [
    {
      "cell_type": "markdown",
      "metadata": {
        "id": "view-in-github",
        "colab_type": "text"
      },
      "source": [
        "<a href=\"https://colab.research.google.com/github/zoelzw/MachineLearning-practice/blob/master/Matrix.ipynb\" target=\"_parent\"><img src=\"https://colab.research.google.com/assets/colab-badge.svg\" alt=\"Open In Colab\"/></a>"
      ]
    },
    {
      "cell_type": "markdown",
      "metadata": {
        "id": "mBGZOmxmAxJ5"
      },
      "source": [
        "# HW1 Scripts\n"
      ]
    },
    {
      "cell_type": "code",
      "metadata": {
        "id": "xVoErXWPAxJ_"
      },
      "source": [
        "import numpy as np\n",
        "from IPython.display import display, Math, HTML\n",
        "import pandas as pd"
      ],
      "execution_count": 4,
      "outputs": []
    },
    {
      "cell_type": "markdown",
      "metadata": {
        "id": "1ihxzTbCAxKU"
      },
      "source": [
        "## Q1 e\n",
        "\n"
      ]
    },
    {
      "cell_type": "markdown",
      "metadata": {
        "id": "c06-i_lGVf4Z"
      },
      "source": [
        "### part b "
      ]
    },
    {
      "cell_type": "code",
      "metadata": {
        "id": "kNZBjFlmAxKX",
        "outputId": "e2aae6fd-e0d7-40f0-c2a5-c561485240b7",
        "colab": {
          "base_uri": "https://localhost:8080/",
          "height": 55
        }
      },
      "source": [
        "x = np.array([[1,1,0,0],[1,1,0,0],[0,1,2,1],[0,1,0,1],[0,0,3,1]])\n",
        "c = np.array([2,1,3,6,8])\n",
        "# print(\"c@x = %s \\n\" % (c@x)) \n",
        "display(Math(rf'c^\\top x = '), c@x)\n",
        "\n"
      ],
      "execution_count": 17,
      "outputs": [
        {
          "output_type": "display_data",
          "data": {
            "text/latex": "$$c^\\top x = $$",
            "text/plain": [
              "<IPython.core.display.Math object>"
            ]
          },
          "metadata": {
            "tags": []
          }
        },
        {
          "output_type": "display_data",
          "data": {
            "text/plain": [
              "array([ 3, 12, 30, 17])"
            ]
          },
          "metadata": {
            "tags": []
          }
        }
      ]
    },
    {
      "cell_type": "markdown",
      "metadata": {
        "id": "6FiQdP-AAxK6"
      },
      "source": [
        "### part c\n"
      ]
    },
    {
      "cell_type": "code",
      "metadata": {
        "id": "sabpsR3RAxK8",
        "outputId": "85441a68-ea45-44af-b2e7-9c1278d765be",
        "colab": {
          "base_uri": "https://localhost:8080/",
          "height": 55
        }
      },
      "source": [
        "x = np.array([[1,1,0,0],[1,1,0,0],[0,1,2,1],[0,1,0,1],[0,0,3,1]])\n",
        "n = np.array([6,2,2,0])\n",
        "# print(\"x@n = %s \\n\" % (x@n)) \n",
        "display(Math(rf'n^\\top x = '), x@n)"
      ],
      "execution_count": 18,
      "outputs": [
        {
          "output_type": "display_data",
          "data": {
            "text/latex": "$$n^\\top x = $$",
            "text/plain": [
              "<IPython.core.display.Math object>"
            ]
          },
          "metadata": {
            "tags": []
          }
        },
        {
          "output_type": "display_data",
          "data": {
            "text/plain": [
              "array([8, 8, 6, 2, 6])"
            ]
          },
          "metadata": {
            "tags": []
          }
        }
      ]
    },
    {
      "cell_type": "markdown",
      "metadata": {
        "id": "xbZy7cERAxLG"
      },
      "source": [
        "### part d\n"
      ]
    },
    {
      "cell_type": "code",
      "metadata": {
        "id": "h8QxzwBfAxLI",
        "outputId": "544551be-a40e-4e38-d3d8-837ea882f445",
        "colab": {
          "base_uri": "https://localhost:8080/",
          "height": 55
        }
      },
      "source": [
        "a = np.array([8,8,6,2,6])\n",
        "b = np.array([2,1,3,6,8])\n",
        "# print(\"b@a = %s \\n\" % (b@a)) \n",
        "display(Math(rf'b^\\top a = '), b@a)"
      ],
      "execution_count": 20,
      "outputs": [
        {
          "output_type": "display_data",
          "data": {
            "text/latex": "$$b^\\top a = $$",
            "text/plain": [
              "<IPython.core.display.Math object>"
            ]
          },
          "metadata": {
            "tags": []
          }
        },
        {
          "output_type": "display_data",
          "data": {
            "text/plain": [
              "102"
            ]
          },
          "metadata": {
            "tags": []
          }
        }
      ]
    }
  ]
}