{
  "nbformat": 4,
  "nbformat_minor": 0,
  "metadata": {
    "colab": {
      "name": "Algorithms.ipynb",
      "provenance": [],
      "toc_visible": true,
      "authorship_tag": "ABX9TyOLUZnEs64hohIMuQlcKpDB",
      "include_colab_link": true
    },
    "kernelspec": {
      "name": "python3",
      "display_name": "Python 3"
    }
  },
  "cells": [
    {
      "cell_type": "markdown",
      "metadata": {
        "id": "view-in-github",
        "colab_type": "text"
      },
      "source": [
        "<a href=\"https://colab.research.google.com/github/zoelzw/python_practice/blob/master/Algorithms.ipynb\" target=\"_parent\"><img src=\"https://colab.research.google.com/assets/colab-badge.svg\" alt=\"Open In Colab\"/></a>"
      ]
    },
    {
      "cell_type": "markdown",
      "metadata": {
        "id": "BJWQtaZanzll",
        "colab_type": "text"
      },
      "source": [
        "# **Sorting Algorithm**\n",
        "\n"
      ]
    },
    {
      "cell_type": "markdown",
      "metadata": {
        "id": "b1rlVxEStkQr",
        "colab_type": "text"
      },
      "source": [
        "# bubble_sort"
      ]
    },
    {
      "cell_type": "code",
      "metadata": {
        "id": "btQgTJ3FtbJF",
        "colab_type": "code",
        "colab": {}
      },
      "source": [
        "#M1\n",
        "def bubble_sort(list):\n",
        "  for n in range(len(list)-1, 0, -1): #0 is not included, loop n-1 times\n",
        "    for j in range(n):                #loop n times\n",
        "      #print (\"compare:\", list[j], list[j+1]) \n",
        "      if (list[j]>list[j+1]):\n",
        "        list[j], list[j+1]=list[j+1], list[j]\n",
        "\n",
        "alist = [2,3,1,0,5,-1]\n",
        "bubble_sort(alist)\n",
        "print (alist)\n",
        "\n",
        "# time: O(n^2)\n",
        "# space: O(1)"
      ],
      "execution_count": 0,
      "outputs": []
    },
    {
      "cell_type": "markdown",
      "metadata": {
        "id": "yXRHXoGNt2su",
        "colab_type": "text"
      },
      "source": [
        "# Selection Sort"
      ]
    },
    {
      "cell_type": "code",
      "metadata": {
        "id": "9q-HUKcyt1v1",
        "colab_type": "code",
        "colab": {
          "base_uri": "https://localhost:8080/",
          "height": 119
        },
        "outputId": "b8db9b72-36d5-4877-a22e-1452e5d2b5d1"
      },
      "source": [
        "#M1 Find max\n",
        "def selection_sort(alist):\n",
        "  for i in range(len(alist)-1, 0, -1):  #loop n-1 times: 5,4,3,2,1 \n",
        "    max_index = 0\n",
        "    for j in range(i+1):                #loop: n, n-1, n-2 ...\n",
        "      if (alist[j] > alist[max_index]):\n",
        "        max_index = j\n",
        "    alist[i], alist[max_index] = alist[max_index], alist[i]   #swap\n",
        "    print(\"swap: \", alist[i], alist[max_index], \"->\", alist)\n",
        "\n",
        "alist = [2,3,1,0,5,4]\n",
        "selection_sort(alist)\n",
        "print (alist)\n",
        "# time: O(n^2)\n",
        "# space: O(1)"
      ],
      "execution_count": 1,
      "outputs": [
        {
          "output_type": "stream",
          "text": [
            "swap:  5 4 -> [2, 3, 1, 0, 4, 5]\n",
            "swap:  4 4 -> [2, 3, 1, 0, 4, 5]\n",
            "swap:  3 0 -> [2, 0, 1, 3, 4, 5]\n",
            "swap:  2 1 -> [1, 0, 2, 3, 4, 5]\n",
            "swap:  1 0 -> [0, 1, 2, 3, 4, 5]\n",
            "[0, 1, 2, 3, 4, 5]\n"
          ],
          "name": "stdout"
        }
      ]
    },
    {
      "cell_type": "markdown",
      "metadata": {
        "id": "gfAjjLijuT2C",
        "colab_type": "text"
      },
      "source": [
        "# Insertion Sort \n",
        "\n",
        "\n",
        "\n",
        "\n"
      ]
    },
    {
      "cell_type": "markdown",
      "metadata": {
        "id": "F5A6LyafujIh",
        "colab_type": "text"
      },
      "source": [
        "## not in-place : binary search\n",
        "\n",
        "\n",
        "\n",
        "\n",
        "\n"
      ]
    },
    {
      "cell_type": "code",
      "metadata": {
        "id": "OBq78Q9pu7ia",
        "colab_type": "code",
        "colab": {}
      },
      "source": [
        "#M1 Not in place. Use bubble sort for each insertion\n",
        "def insert_num(array,num):\n",
        "  idx = len(array) - 1\n",
        "  array.append(num)  #insert at the end\n",
        "  while idx >= 0:    #bubble sort (1 iteration)\n",
        "    if (array[idx] > array[idx+1]):\n",
        "      array[idx+1], array[idx] = array[idx], array[idx+1]\n",
        "    idx -= 1\n",
        "\n",
        "def insertion_sort(array):\n",
        "  if not array:\n",
        "    return None\n",
        "  new_arr = [] \n",
        "  for i in range(len(array)):\n",
        "    insert_num(new_arr, array[i])\n",
        "    print(\"insert\", array[i], \"->\", new_arr)\n",
        "  return new_arr\n",
        "\n",
        "alist = [1,5,6,3,2]\n",
        "new_arr = insertion_sort(alist)\n",
        "print (new_arr)\n",
        "\n",
        "\n",
        "#Binary search to find the closest number smaller than n\n",
        "def binary_search(array, n):\n",
        "  if len(array) == 0 or array == None:\n",
        "    return 0\n",
        "  left = 0\n",
        "  right = len(array) - 1\n",
        "  while left < right - 1:\n",
        "    mid = (left+right) // 2\n",
        "    if array[mid] >= n:\n",
        "      right = mid - 1\n",
        "    else:\n",
        "      left = mid\n",
        "  return right #returns the position smaller than the number's value\n",
        "\n",
        "def insert_num(array, n):\n",
        "  idx = binary_search(array, n) + 1\n",
        "  array.insert(idx, n)\n",
        "\n",
        "def insertion_sort(array):\n",
        "  new_arr = [] \n",
        "  for i in range(len(array)):\n",
        "    insert_num(new_arr, array[i])\n",
        "    print(\"insert\", array[i], \"->\", new_arr)\n",
        "  return new_arr\n",
        "\n",
        "alist = [1,5,6,3,2]\n",
        "new_arr = insertion_sort(alist)\n",
        "print (new_arr)\n",
        "# time: O(n^2)\n",
        "# space: O(1)"
      ],
      "execution_count": 0,
      "outputs": []
    },
    {
      "cell_type": "markdown",
      "metadata": {
        "id": "nGdvTNwbvJmV",
        "colab_type": "text"
      },
      "source": [
        "## in-place "
      ]
    },
    {
      "cell_type": "code",
      "metadata": {
        "id": "w1roMCWFuVP5",
        "colab_type": "code",
        "colab": {}
      },
      "source": [
        "#M2 In-place\n",
        "'''\n",
        "[1,5,6,3]  --> [1,5,6,6] --> [1,5,5,6] --> [1,3,5,6]\n",
        "       I              i             i \n",
        "       k            k           k\n",
        "     cur = 3      cur = 3     cur = 3\n",
        "loop using i; \n",
        "cur holds value at i; \n",
        "k starts as index at i, moves backwards and changes value at k until no smaller found\n",
        "'''\n",
        "def insertion_sort(alist):\n",
        "  for i in range(1, len(alist)):  #loop: [1, n-1]\n",
        "    cur = alist[i]  \n",
        "    k = i\n",
        "    while k > 0 and cur < alist[k-1]: \n",
        "      alist[k] = alist[k-1]\n",
        "      k -= 1 \n",
        "    alist[k] = cur \n",
        "    \n",
        "alist = [1,5,6,3,2]\n",
        "new_arr = insertion_sort(alist)\n",
        "print (alist)\n",
        "print (new_arr)"
      ],
      "execution_count": 0,
      "outputs": []
    },
    {
      "cell_type": "markdown",
      "metadata": {
        "id": "awFZvC4ztELG",
        "colab_type": "text"
      },
      "source": [
        "# Merge Sort\n",
        "\n"
      ]
    },
    {
      "cell_type": "code",
      "metadata": {
        "id": "KiEBBDrJs8Ci",
        "colab_type": "code",
        "colab": {}
      },
      "source": [
        "# Divide unsorted list into left + right\n",
        "def divide(list):\n",
        "  if(len(list) <= 1): #if only one or None element\n",
        "    return unsortedList\n",
        "  mid = int(len(unsortedList) / 2)\n",
        "  lefthalf = unsortedList[:mid]\n",
        "  righthalf = unsortedList[mid:]\n",
        "  return (lefthalf, righthalf)\n",
        "\n",
        "# Merge two sorted arrays using left index point + right index pointer\n",
        "# time: O(2n) = O(n)\n",
        "# space: O(n+n) = O(n)\n",
        "def merge(list1, list2):\n",
        "  i = 0\n",
        "  j = 0\n",
        "  new_list = []\n",
        "  while (i < len(list1) and j < len(list2)):\n",
        "    if (list1[i] < list2[j]):\n",
        "      new_list.append(list1[i])\n",
        "      i = i + 1\n",
        "    else:\n",
        "      new_list.append(list2[j])\n",
        "      j = j + 1\n",
        "  while(i < len(list1)):\n",
        "    new_list.append(list1[i])\n",
        "    i = i + 1\n",
        "  while(j < len(list2)):\n",
        "    new_list.append(list2[j])\n",
        "    j = j + 1\n",
        "  return (new_list)\n",
        "\n",
        "# MergeSort \n",
        "def mergeSort(alist):\n",
        "  if(len(alist) <= 1):\n",
        "    return alist\n",
        "  lefthalf, righthalf = divide(alist)\n",
        "  lefthalf = mergeSort(lefthalf)\n",
        "  righthalf = mergeSort(righthalf)\n",
        "  return(merge(lefthalf, righthalf))\n",
        "\n",
        "print (mergeSort([7,3,8,4,5,6,2]))\n",
        "  "
      ],
      "execution_count": 0,
      "outputs": []
    },
    {
      "cell_type": "code",
      "metadata": {
        "id": "egJB31V-vevb",
        "colab_type": "code",
        "colab": {}
      },
      "source": [
        "### Simpler version without divide\n",
        "def merge(array1, array2):\n",
        "  i = j = 0\n",
        "  results = []\n",
        "  while i < len(array1) and j < len(array2):\n",
        "    if array1[i] < array2[j]:\n",
        "      results.append(array1[i])\n",
        "      i += 1\n",
        "    else:\n",
        "      results.append(array2[j])\n",
        "      j += 1\n",
        "  while i < len(array1):\n",
        "    results.append(array1[i])\n",
        "    i += 1\n",
        "  while j < len(array2):\n",
        "    results.append(array2[j])\n",
        "    j += 1\n",
        "  return results\n",
        "#time: O(n)\n",
        "#space: O(1) not counting output and input\n",
        "#space: O(n) not counting input\n",
        "\n",
        "def merge_sort(array):\n",
        "  if len(array) <= 1 or array == None:\n",
        "    return array\n",
        "  middle = int(len(array) / 2)\n",
        "  left = merge_sort(array[:middle])\n",
        "  right = merge_sort(array[middle:])\n",
        "  return merge(left, right)\n",
        "  \n",
        "#time: O(nlogn) = logn layers * n per layer\n",
        "#space: O(n) = O(logn) + O(n)\n",
        "\n",
        "print (merge_sort([7,3,8,4,5,6,2]))"
      ],
      "execution_count": 0,
      "outputs": []
    },
    {
      "cell_type": "markdown",
      "metadata": {
        "id": "ps1DxaWgyFtj",
        "colab_type": "text"
      },
      "source": [
        "# Quick Sort\n",
        "The idea behind Quicksort is this: given an array \n",
        "A,\n",
        "\n",
        "1. Choose an element p, which we call a pivot.\n",
        "2. Go through the array and move all elements that are less than p to the left of p and all the elements that are greater than p to its right.\n",
        "3. Recursively sort the portion of the array to the left of p.\n",
        "4. Recursively sort the portion of the array to the right of p."
      ]
    },
    {
      "cell_type": "code",
      "metadata": {
        "id": "TjAHMMIuzV3r",
        "colab_type": "code",
        "colab": {}
      },
      "source": [
        "def partition (lst,start,end,pivot_index):\n",
        "  lst[pivot_index],lst[end] = lst[end], les[pivot_index]\n",
        "  store_index = start \n",
        "  pivot = lst[end]\n",
        "  for i in range (start,end):\n",
        "    if lst[i] < pivot:\n",
        "      lst[i],lst[store_index] = lst[store_index],lst[i]\n",
        "      store_index += 1\n",
        "    print(lst)\n",
        "  lst[store_index],lst[end] = lst[end],lst[store_index]\n",
        "  %return store_index\n",
        "\n",
        "\n"
      ],
      "execution_count": 0,
      "outputs": []
    }
  ]
}