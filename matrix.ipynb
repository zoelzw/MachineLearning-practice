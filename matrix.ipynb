{
  "nbformat": 4,
  "nbformat_minor": 0,
  "metadata": {
    "kernelspec": {
      "display_name": "Python 3",
      "language": "python",
      "name": "python3"
    },
    "language_info": {
      "codemirror_mode": {
        "name": "ipython",
        "version": 3
      },
      "file_extension": ".py",
      "mimetype": "text/x-python",
      "name": "python",
      "nbconvert_exporter": "python",
      "pygments_lexer": "ipython3",
      "version": "3.7.3"
    },
    "colab": {
      "name": "hw1.ipynb",
      "provenance": [],
      "include_colab_link": true
    }
  },
  "cells": [
    {
      "cell_type": "markdown",
      "metadata": {
        "id": "view-in-github",
        "colab_type": "text"
      },
      "source": [
        "<a href=\"https://colab.research.google.com/github/zoelzw/python-practice/blob/master/matrix.ipynb\" target=\"_parent\"><img src=\"https://colab.research.google.com/assets/colab-badge.svg\" alt=\"Open In Colab\"/></a>"
      ]
    },
    {
      "cell_type": "markdown",
      "metadata": {
        "id": "mBGZOmxmAxJ5"
      },
      "source": [
        "# HW1 Scripts\n"
      ]
    },
    {
      "cell_type": "code",
      "metadata": {
        "id": "xVoErXWPAxJ_"
      },
      "source": [
        "import numpy as np\n",
        "from IPython.display import display, Math, HTML\n",
        "import pandas as pd"
      ],
      "execution_count": 4,
      "outputs": []
    },
    {
      "cell_type": "markdown",
      "metadata": {
        "id": "1ihxzTbCAxKU"
      },
      "source": [
        "## Q1 e\n",
        "\n"
      ]
    },
    {
      "cell_type": "markdown",
      "metadata": {
        "id": "c06-i_lGVf4Z"
      },
      "source": [
        "### part b "
      ]
    },
    {
      "cell_type": "code",
      "metadata": {
        "id": "kNZBjFlmAxKX",
        "outputId": "968cdc14-32ad-4a3a-91f4-4ba3a014a2c7",
        "colab": {
          "base_uri": "https://localhost:8080/",
          "height": 89
        }
      },
      "source": [
        "x = np.array([[1,1,0,0],[1,1,0,0],[0,1,2,1],[0,1,0,1],[0,0,3,1]])\n",
        "c = np.array([2,1,3,6,8])\n",
        "print(\"c@x = %s \\n\" % (c@x)) \n",
        "display(Math(rf'c^\\top x = '), c@x)\n",
        "\n"
      ],
      "execution_count": 13,
      "outputs": [
        {
          "output_type": "stream",
          "text": [
            "c@x = [ 3 12 30 17] \n",
            "\n"
          ],
          "name": "stdout"
        },
        {
          "output_type": "display_data",
          "data": {
            "text/latex": "$$c^\\top x = $$",
            "text/plain": [
              "<IPython.core.display.Math object>"
            ]
          },
          "metadata": {
            "tags": []
          }
        },
        {
          "output_type": "display_data",
          "data": {
            "text/plain": [
              "array([ 3, 12, 30, 17])"
            ]
          },
          "metadata": {
            "tags": []
          }
        }
      ]
    },
    {
      "cell_type": "markdown",
      "metadata": {
        "id": "6FiQdP-AAxK6"
      },
      "source": [
        "### part c\n"
      ]
    },
    {
      "cell_type": "code",
      "metadata": {
        "id": "sabpsR3RAxK8",
        "outputId": "4360f1e5-b7b7-41d2-bb4d-814ecbe83a33"
      },
      "source": [
        "z = [1,2,3]\n",
        "\n",
        "print(\"x/4 = \",x/4)\n",
        "print(\"z/4 = \",z/4)  # this results in an error"
      ],
      "execution_count": null,
      "outputs": [
        {
          "output_type": "stream",
          "text": [
            "x/4 =  [0.25 0.5  0.75]\n"
          ],
          "name": "stdout"
        },
        {
          "output_type": "error",
          "ename": "TypeError",
          "evalue": "unsupported operand type(s) for /: 'list' and 'int'",
          "traceback": [
            "\u001b[0;31m---------------------------------------------------------------------------\u001b[0m",
            "\u001b[0;31mTypeError\u001b[0m                                 Traceback (most recent call last)",
            "\u001b[0;32m<ipython-input-4-22b8356afc99>\u001b[0m in \u001b[0;36m<module>\u001b[0;34m\u001b[0m\n\u001b[1;32m      2\u001b[0m \u001b[0;34m\u001b[0m\u001b[0m\n\u001b[1;32m      3\u001b[0m \u001b[0mprint\u001b[0m\u001b[0;34m(\u001b[0m\u001b[0;34m\"x/4 = \"\u001b[0m\u001b[0;34m,\u001b[0m\u001b[0mx\u001b[0m\u001b[0;34m/\u001b[0m\u001b[0;36m4\u001b[0m\u001b[0;34m)\u001b[0m\u001b[0;34m\u001b[0m\u001b[0;34m\u001b[0m\u001b[0m\n\u001b[0;32m----> 4\u001b[0;31m \u001b[0mprint\u001b[0m\u001b[0;34m(\u001b[0m\u001b[0;34m\"z/4 = \"\u001b[0m\u001b[0;34m,\u001b[0m\u001b[0mz\u001b[0m\u001b[0;34m/\u001b[0m\u001b[0;36m4\u001b[0m\u001b[0;34m)\u001b[0m  \u001b[0;31m# this results in an error\u001b[0m\u001b[0;34m\u001b[0m\u001b[0;34m\u001b[0m\u001b[0m\n\u001b[0m",
            "\u001b[0;31mTypeError\u001b[0m: unsupported operand type(s) for /: 'list' and 'int'"
          ]
        }
      ]
    },
    {
      "cell_type": "markdown",
      "metadata": {
        "id": "xbZy7cERAxLG"
      },
      "source": [
        "## compute an inner (dot) product"
      ]
    },
    {
      "cell_type": "code",
      "metadata": {
        "id": "h8QxzwBfAxLI",
        "outputId": "14ecf1ab-d1cb-4ad1-93d5-449a07b9ad47"
      },
      "source": [
        "z = np.array([4,5,6])\n",
        "p = np.dot(x,z)\n",
        "p2 = x*z\n",
        "p3 = x@z\n",
        "\n",
        "print(\"x^T z = \", p)\n",
        "print(\"np.dot(x,z) = %s, x*z = %s, x@z = %s\" % (p,p2,p3))\n",
        "display(Math(rf'x^\\top z = ({x[0]}\\times {z[0]}) + ({x[1]}\\times {z[1]}) + ({x[2]}\\times {z[2]}) = {p}'))\n",
        "\n",
        "print(\"x z^T = \",np.outer(x,z))"
      ],
      "execution_count": null,
      "outputs": [
        {
          "output_type": "stream",
          "text": [
            "x^T z =  32\n",
            "np.dot(x,z) = 32, x*z = [ 4 10 18], x@z = 32\n"
          ],
          "name": "stdout"
        },
        {
          "output_type": "display_data",
          "data": {
            "text/latex": "$\\displaystyle x^\\top z = (1\\times 4) + (2\\times 5) + (3\\times 6) = 32$",
            "text/plain": [
              "<IPython.core.display.Math object>"
            ]
          },
          "metadata": {
            "tags": []
          }
        },
        {
          "output_type": "stream",
          "text": [
            "x z^T =  [[ 4  5  6]\n",
            " [ 8 10 12]\n",
            " [12 15 18]]\n"
          ],
          "name": "stdout"
        }
      ]
    },
    {
      "cell_type": "markdown",
      "metadata": {
        "id": "UeObLgsQAxLY"
      },
      "source": [
        "## matrices"
      ]
    },
    {
      "cell_type": "code",
      "metadata": {
        "id": "z7sHlr60AxLb",
        "outputId": "c47f068a-df3e-4aa6-f241-85ffd990a9f9"
      },
      "source": [
        "A = np.array([[1, 1, 0, 0, 0],[0, 1, 2, 0, 3],[0, 5, 0, 6, 0]])\n",
        "\n",
        "print(\"A =\",A)\n",
        "print(\"A = \",pd.DataFrame(A))\n",
        "print(\"A =\\n\",pd.DataFrame(A))\n",
        "print(\"A = \",pd.DataFrame(A).to_string(index=False,header=False))\n",
        "\n",
        "HTML(pd.DataFrame(A).to_html(index=False,header=False))\n"
      ],
      "execution_count": null,
      "outputs": [
        {
          "output_type": "stream",
          "text": [
            "A = [[1 1 0 0 0]\n",
            " [0 1 2 0 3]\n",
            " [0 5 0 6 0]]\n",
            "A =     0  1  2  3  4\n",
            "0  1  1  0  0  0\n",
            "1  0  1  2  0  3\n",
            "2  0  5  0  6  0\n",
            "A =\n",
            "    0  1  2  3  4\n",
            "0  1  1  0  0  0\n",
            "1  0  1  2  0  3\n",
            "2  0  5  0  6  0\n",
            "A =   1  1  0  0  0\n",
            " 0  1  2  0  3\n",
            " 0  5  0  6  0\n"
          ],
          "name": "stdout"
        },
        {
          "output_type": "execute_result",
          "data": {
            "text/html": [
              "<table border=\"1\" class=\"dataframe\">\n",
              "  <tbody>\n",
              "    <tr>\n",
              "      <td>1</td>\n",
              "      <td>1</td>\n",
              "      <td>0</td>\n",
              "      <td>0</td>\n",
              "      <td>0</td>\n",
              "    </tr>\n",
              "    <tr>\n",
              "      <td>0</td>\n",
              "      <td>1</td>\n",
              "      <td>2</td>\n",
              "      <td>0</td>\n",
              "      <td>3</td>\n",
              "    </tr>\n",
              "    <tr>\n",
              "      <td>0</td>\n",
              "      <td>5</td>\n",
              "      <td>0</td>\n",
              "      <td>6</td>\n",
              "      <td>0</td>\n",
              "    </tr>\n",
              "  </tbody>\n",
              "</table>"
            ],
            "text/plain": [
              "<IPython.core.display.HTML object>"
            ]
          },
          "metadata": {
            "tags": []
          },
          "execution_count": 6
        }
      ]
    },
    {
      "cell_type": "markdown",
      "metadata": {
        "id": "maYLTlpEAxL0"
      },
      "source": [
        "## matrix-vector products"
      ]
    },
    {
      "cell_type": "code",
      "metadata": {
        "id": "Bu9KmEtCAxL3",
        "outputId": "efa130a5-4cc6-45db-898e-e2ccc4e7c15d"
      },
      "source": [
        "print(\"x@A = %s\" % (x@A))\n",
        "display(Math(rf'x^\\top A = '),x@A)\n",
        "\n",
        "print(\"A@y = %s\" % (A@y))\n",
        "display(Math(rf'Ay = '),A@y)\n",
        "\n",
        "print(\"x@A@y = %s\" % (x@A@y))\n",
        "display(Math(rf'x^\\top Ay = '),x@A@y)\n",
        "\n"
      ],
      "execution_count": null,
      "outputs": [
        {
          "output_type": "stream",
          "text": [
            "x@A = [ 1 18  4 18  6]\n"
          ],
          "name": "stdout"
        },
        {
          "output_type": "display_data",
          "data": {
            "text/latex": "$\\displaystyle x^\\top A = $",
            "text/plain": [
              "<IPython.core.display.Math object>"
            ]
          },
          "metadata": {
            "tags": []
          }
        },
        {
          "output_type": "display_data",
          "data": {
            "text/plain": [
              "array([ 1, 18,  4, 18,  6])"
            ]
          },
          "metadata": {
            "tags": []
          }
        },
        {
          "output_type": "stream",
          "text": [
            "A@y = [ 6 46 68]\n"
          ],
          "name": "stdout"
        },
        {
          "output_type": "display_data",
          "data": {
            "text/latex": "$\\displaystyle Ay = $",
            "text/plain": [
              "<IPython.core.display.Math object>"
            ]
          },
          "metadata": {
            "tags": []
          }
        },
        {
          "output_type": "display_data",
          "data": {
            "text/plain": [
              "array([ 6, 46, 68])"
            ]
          },
          "metadata": {
            "tags": []
          }
        },
        {
          "output_type": "stream",
          "text": [
            "x@A@y = 302\n"
          ],
          "name": "stdout"
        },
        {
          "output_type": "display_data",
          "data": {
            "text/latex": "$\\displaystyle x^\\top Ay = $",
            "text/plain": [
              "<IPython.core.display.Math object>"
            ]
          },
          "metadata": {
            "tags": []
          }
        },
        {
          "output_type": "display_data",
          "data": {
            "text/plain": [
              "302"
            ]
          },
          "metadata": {
            "tags": []
          }
        }
      ]
    },
    {
      "cell_type": "code",
      "metadata": {
        "id": "pzmeyOxxAxMG",
        "outputId": "1d16f0ba-5f62-4b4f-84a2-2e04c79362a2"
      },
      "source": [
        "print(\"A = \",A)\n",
        "print(\"1st row of A = [1, 0, 0]@A = \",np.array([1, 0, 0])@A )\n",
        "print(\"2nd row of A = [0, 1, 0]@A = \",np.array([0, 1, 0])@A )\n",
        "print(\"3rd row of A = [0, 0, 1]@A = \",np.array([0, 0, 1])@A )\n",
        "print(\"2x 1st row + 3rd row of A = [2, 0, 1]@A = \",np.array([2, 0, 1])@A)"
      ],
      "execution_count": null,
      "outputs": [
        {
          "output_type": "stream",
          "text": [
            "A =  [[1 1 0 0 0]\n",
            " [0 1 2 0 3]\n",
            " [0 5 0 6 0]]\n",
            "1st row of A = [1, 0, 0]@A =  [1 1 0 0 0]\n",
            "2nd row of A = [0, 1, 0]@A =  [0 1 2 0 3]\n",
            "3rd row of A = [0, 0, 1]@A =  [0 5 0 6 0]\n",
            "2x 1st row + 3rd row of A = [2, 0, 1]@A =  [2 7 0 6 0]\n"
          ],
          "name": "stdout"
        }
      ]
    },
    {
      "cell_type": "code",
      "metadata": {
        "id": "oKLuckWKAxMO",
        "outputId": "aa31d0a3-8ec5-40c8-e841-2d349c6ce179"
      },
      "source": [
        "print(\"A = \\n\",A)\n",
        "print(\"1st col of A = A@[1,0,0,0,0] = \",A@np.array([1,0,0,0,0]) )\n",
        "print(\"2nd col of A = A@[0,1,0,0,0] = \",A@np.array([0,1,0,0,0]) )\n",
        "print(\"3rd col of A = A@[0,0,1,0,0] = \",A@np.array([0,0,1,0,0]) )\n",
        "print(\"4th col of A = A@[0,0,0,1,0] = \",A@np.array([0,0,0,1,0]) )\n",
        "print(\"5th col of A = A@[0,0,0,0,1] = \",A@np.array([0,0,0,0,1]) )\n",
        "\n",
        "print(\"2x 1st col + 4th col = A@[2,0,0,1,0] = \",A@np.array([2,0,0,1,0]))"
      ],
      "execution_count": null,
      "outputs": [
        {
          "output_type": "stream",
          "text": [
            "A = \n",
            " [[1 1 0 0 0]\n",
            " [0 1 2 0 3]\n",
            " [0 5 0 6 0]]\n",
            "1st col of A = A@[1,0,0,0,0] =  [1 0 0]\n",
            "2nd col of A = A@[0,1,0,0,0] =  [1 1 5]\n",
            "3rd col of A = A@[0,0,1,0,0] =  [0 2 0]\n",
            "4th col of A = A@[0,0,0,1,0] =  [0 0 6]\n",
            "5th col of A = A@[0,0,0,0,1] =  [0 3 0]\n",
            "2x 1st col + 4th col = A@[2,0,0,1,0] =  [2 0 6]\n"
          ],
          "name": "stdout"
        }
      ]
    },
    {
      "cell_type": "code",
      "metadata": {
        "id": "6nLXgawwAxMX"
      },
      "source": [
        ""
      ],
      "execution_count": null,
      "outputs": []
    }
  ]
}